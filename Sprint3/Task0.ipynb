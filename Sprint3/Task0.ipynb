{
 "cells": [
  {
   "cell_type": "markdown",
   "metadata": {},
   "source": [
    "<h1 style=\"color:DodgerBlue\">Понятие полиморфизма</h1>\n",
    "\n",
    "### Понятие полиморфизма в C# с параметрами\n",
    "\n",
    "Полиморфизм в объектно-ориентированном программировании позволяет объектам разных классов обрабатывать одни и те же сообщения по-разному. В C#, полиморфизм часто реализуется через наследование и переопределение методов. Давайте рассмотрим пример с классами `Vehicle`, `Car` и `Motorcycle`, чтобы продемонстрировать, как полиморфизм работает с параметрами.\n",
    "\n",
    "#### Определение классов\n",
    "\n",
    "Сначала определим базовый класс `Vehicle` с виртуальным методом `Drive()`, который принимает параметры. Затем создадим два производных класса: `Car` и `Motorcycle`, которые переопределят этот метод.\n",
    "\n",
    "```csharp\n",
    "// Базовый класс Vehicle с виртуальным методом Drive(), принимающим параметры\n",
    "public class Vehicle\n",
    "{\n",
    "    public virtual void Drive(int speed)\n",
    "    {\n",
    "        Console.WriteLine($\"Транспорт движется {speed} km/h.\");\n",
    "    }\n",
    "}\n",
    "\n",
    "// Производный класс Car, переопределяющий метод Drive()\n",
    "public class Car : Vehicle\n",
    "{\n",
    "    public override void Drive(int speed)\n",
    "    {\n",
    "        Console.WriteLine($\"Автомобиль движется {speed} km/h.\");\n",
    "    }\n",
    "}\n",
    "\n",
    "// Производный класс Motorcycle, также переопределяющий метод Drive()\n",
    "public class Motorcycle : Vehicle\n",
    "{\n",
    "    public override void Drive(int speed)\n",
    "    {\n",
    "        Console.WriteLine($\"Мотоцикл движется {speed} km/h.\");\n",
    "    }\n",
    "}\n",
    "```\n",
    "\n",
    "#### Использование полиморфизма\n",
    "\n",
    "Теперь создадим список объектов типа `Vehicle` и добавим в него экземпляры `Car` и `Motorcycle`. Затем вызовем метод `Drive()` для каждого элемента списка, передавая разные скорости. Это демонстрирует, как полиморфизм позволяет нам работать с объектами разных типов через общий интерфейс, но при этом выполнять различные действия в зависимости от \"реального\" типа объекта.\n",
    "\n",
    "```csharp\n",
    "List<Vehicle> vehicles = new List<Vehicle>\n",
    "{\n",
    "    new Car(),\n",
    "    new Motorcycle(),\n",
    "    new Vehicle() // Добавляем экземпляр базового класса для демонстрации\n",
    "};\n",
    "\n",
    "foreach (var vehicle in vehicles)\n",
    "{\n",
    "    vehicle.Drive(100); // Вызываем метод Drive() \n",
    "}\n",
    "\n",
    "```\n",
    "\n",
    "В результате выполнения этого кода, каждый объект в списке вызывает свою версию метода `Drive()`, демонстрируя, что при работе с объектами через базовый класс (`Vehicle`) можно достичь различных действий в зависимости от \"реального\" типа объекта, даже когда используются разные скорости.\n",
    "\n",
    "Этот пример иллюстрирует ключевое понятие полиморфизма в ООП: возможность работы с объектами разных типов через общий интерфейс или базовый класс, что позволяет писать более гибкий и расширяемый код."
   ]
  },
  {
   "cell_type": "markdown",
   "metadata": {},
   "source": [
    "<h4 style=\"color:DodgerBlue\">Для проверки напишите пример кода на основе классов Vehicle, Car и Motorcycle ниже в блоке:</h4>\n",
    "\n",
    "----"
   ]
  },
  {
   "cell_type": "code",
   "execution_count": 1,
   "metadata": {
    "dotnet_interactive": {
     "language": "csharp"
    },
    "polyglot_notebook": {
     "kernelName": "csharp"
    }
   },
   "outputs": [
    {
     "name": "stdout",
     "output_type": "stream",
     "text": [
      "Автомобиль движется 100 km/h.\n",
      "Мотоцикл движется 100 km/h.\n",
      "Транспорт движется 100 km/h.\n"
     ]
    }
   ],
   "source": [
    "public class Vehicle\n",
    "{\n",
    "    public virtual void Drive(int speed)\n",
    "    {\n",
    "        Console.WriteLine($\"Транспорт движется {speed} km/h.\");\n",
    "    }\n",
    "}\n",
    "\n",
    "public class Car : Vehicle\n",
    "{\n",
    "    public override void Drive(int speed)\n",
    "    {\n",
    "        Console.WriteLine($\"Автомобиль движется {speed} km/h.\");\n",
    "    }\n",
    "}\n",
    "\n",
    "public class Motorcycle : Vehicle\n",
    "{\n",
    "    public override void Drive(int speed)\n",
    "    {\n",
    "        Console.WriteLine($\"Мотоцикл движется {speed} km/h.\");\n",
    "    }\n",
    "}\n",
    "\n",
    "List<Vehicle> vehicles = new List<Vehicle>\n",
    "{\n",
    "    new Car(),\n",
    "    new Motorcycle(),\n",
    "    new Vehicle() \n",
    "};\n",
    "\n",
    "foreach (var vehicle in vehicles)\n",
    "{\n",
    "    vehicle.Drive(100); \n",
    "}"
   ]
  },
  {
   "cell_type": "markdown",
   "metadata": {},
   "source": [
    "<h4 style=\"color:Red\">Задание:</h4>\n",
    "\n",
    "----\n",
    "\n",
    "Ниже в блоке по примеру создайте базовый класс Animal и производные классы (3-4 например Dog, Cat, Bird и так далее) реализуйте структуру и объявление класса, включая свойства, геттеры и сеттеры, а также механизм полиморфизм."
   ]
  },
  {
   "cell_type": "code",
   "execution_count": 4,
   "metadata": {
    "dotnet_interactive": {
     "language": "csharp"
    },
    "polyglot_notebook": {
     "kernelName": "csharp"
    }
   },
   "outputs": [
    {
     "name": "stdout",
     "output_type": "stream",
     "text": [
      "Собака ест со скоростью 100гр/ч.\n",
      "Кот ест со скоростью 100гр/ч..\n",
      "Животно ест со скоростью 100гр/ч.\n"
     ]
    }
   ],
   "source": [
    "public class Animal\n",
    "{\n",
    "    public virtual void Eat(int speed)\n",
    "    {\n",
    "        Console.WriteLine($\"Животное ест со скоростью {speed}гр/ч.\");\n",
    "    }\n",
    "}\n",
    "\n",
    "public class Dog : Animal\n",
    "{\n",
    "    public override void Eat(int speed)\n",
    "    {\n",
    "        Console.WriteLine($\"Собака ест со скоростью {speed}гр/ч.\");\n",
    "    }\n",
    "}\n",
    "\n",
    "public class Cat : Animal\n",
    "{\n",
    "    public override void Eat(int speed)\n",
    "    {\n",
    "        Console.WriteLine($\"Кот ест со скоростью {speed}гр/ч..\");\n",
    "    }\n",
    "}\n",
    "\n",
    "List<Animal> animals = new List<Animal>\n",
    "{\n",
    "    new Dog(),\n",
    "    new Cat(),\n",
    "    new Animal() \n",
    "};\n",
    "\n",
    "foreach (var animal in animals)\n",
    "{\n",
    "    animal.Eat(100); \n",
    "}"
   ]
  }
 ],
 "metadata": {
  "kernelspec": {
   "display_name": ".NET (C#)",
   "language": "C#",
   "name": ".net-csharp"
  },
  "polyglot_notebook": {
   "kernelInfo": {
    "defaultKernelName": "csharp",
    "items": [
     {
      "aliases": [],
      "languageName": "csharp",
      "name": "csharp"
     }
    ]
   }
  }
 },
 "nbformat": 4,
 "nbformat_minor": 2
}
