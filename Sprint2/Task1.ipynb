{
 "cells": [
  {
   "cell_type": "markdown",
   "metadata": {},
   "source": [
    "<h1 style=\"color:DodgerBlue\">Сложное наследование</h1>"
   ]
  },
  {
   "cell_type": "markdown",
   "metadata": {},
   "source": [
    "Сложное наследование в C# отличается от простого тем, что оно позволяет создавать более глубокие иерархии классов, где один класс может наследоваться от другого, который уже является производным классом. Это позволяет еще больше абстрагировать общие свойства и методы, делая код более модульным и легким для поддержки.\n",
    "\n",
    "Давайте рассмотрим пример сложного наследования, используя классы `Vehicle`, `Car`, и `Motorcycle`, а также введем новый класс `SportsCar`, который будет наследоваться от `Car`.\n",
    "\n",
    "### Шаг 1: Базовый класс Vehicle\n",
    "\n",
    "Начнем с определения базового класса `Vehicle`, как и в предыдущем примере.\n",
    "\n",
    "```csharp\n",
    "public class Vehicle\n",
    "{\n",
    "    public string Make { get; set; }\n",
    "    public string Model { get; set; }\n",
    "\n",
    "    public Vehicle(string make, string model)\n",
    "    {\n",
    "        Make = make;\n",
    "        Model = model;\n",
    "    }\n",
    "\n",
    "    public virtual void DisplayInfo()\n",
    "    {\n",
    "        Console.WriteLine($\"Производитель: {Make}, Модель: {Model}\");\n",
    "    }\n",
    "}\n",
    "```\n",
    "\n",
    "### Шаг 2: Производный класс Car\n",
    "\n",
    "Теперь определим класс `Car`, который наследуется от `Vehicle`.\n",
    "\n",
    "```csharp\n",
    "public class Car : Vehicle\n",
    "{\n",
    "    public int Doors { get; set; }\n",
    "\n",
    "    public Car(string make, string model, int doors) : base(make, model)\n",
    "    {\n",
    "        Doors = doors;\n",
    "    }\n",
    "\n",
    "    public override void DisplayInfo()\n",
    "    {\n",
    "        base.DisplayInfo();\n",
    "        Console.WriteLine($\"Двери: {Doors}\");\n",
    "    }\n",
    "}\n",
    "```\n",
    "\n",
    "### Шаг 3: Производный класс SportsCar\n",
    "\n",
    "Введем класс `SportsCar`, который наследуется от `Car`, демонстрируя сложное наследование.\n",
    "\n",
    "```csharp\n",
    "public class SportsCar : Car\n",
    "{\n",
    "    public bool IsConvertible { get; set; }\n",
    "\n",
    "    public SportsCar(string make, string model, int doors, bool isConvertible) \n",
    "        : base(make, model, doors)\n",
    "    {\n",
    "        IsConvertible = isConvertible;\n",
    "    }\n",
    "\n",
    "    public override void DisplayInfo()\n",
    "    {\n",
    "        base.DisplayInfo();\n",
    "        Console.WriteLine($\"Автомобиль с откидным верхом: {IsConvertible}\");\n",
    "    }\n",
    "}\n",
    "```\n",
    "\n",
    "### Шаг 4: Производный класс Motorcycle\n",
    "\n",
    "Определим класс `Motorcycle`, который также наследуется от `Vehicle`.\n",
    "\n",
    "```csharp\n",
    "public class Motorcycle : Vehicle\n",
    "{\n",
    "    public string EngineType { get; set; }\n",
    "\n",
    "    public Motorcycle(string make, string model, string engineType) : base(make, model)\n",
    "    {\n",
    "        EngineType = engineType;\n",
    "    }\n",
    "\n",
    "    public override void DisplayInfo()\n",
    "    {\n",
    "        base.DisplayInfo();\n",
    "        Console.WriteLine($\"Тип двигателя: {EngineType}\");\n",
    "    }\n",
    "}\n",
    "```\n",
    "\n",
    "### Шаг 5: Использование классов\n",
    "\n",
    "Теперь мы можем создать экземпляры наших классов и использовать их.\n",
    "\n",
    "```csharp\n",
    "Car myCar = new Car(\"Toyota\", \"Corolla\", 4);\n",
    "myCar.DisplayInfo();\n",
    "\n",
    "SportsCar mySportsCar = new SportsCar(\"Ferrari\", \"488 Spider\", 2, true);\n",
    "mySportsCar.DisplayInfo();\n",
    "\n",
    "Motorcycle myMotorcycle = new Motorcycle(\"Ducati\", \"Panigale V4\", \"V4\");\n",
    "myMotorcycle.DisplayInfo();\n",
    "```\n",
    "\n",
    "### Объяснение кода\n",
    "\n",
    "- **Базовый класс `Vehicle`** предоставляет основные свойства и методы для всех транспортных средств.\n",
    "- **Класс `Car`** наследует от `Vehicle` и добавляет свойство `Doors`.\n",
    "- **Класс `SportsCar`** наследует от `Car`, демонстрируя сложное наследование, и добавляет свойство `IsConvertible`.\n",
    "- **Класс `Motorcycle`** также наследует от `Vehicle`, но имеет свое собственное свойство `EngineType`.\n",
    "\n",
    "### Отличие сложного наследования от простого\n",
    "\n",
    "- **Глубина иерархии**: Сложное наследование позволяет создавать более глубокие иерархии классов, где классы могут наследоваться друг от друга на несколько уровней вниз.\n",
    "- **Переиспользование кода**: Сложное наследование увеличивает возможности для переиспользования кода, поскольку классы могут наследовать не только непосредственно от базового класса, но и от других производных классов.\n",
    "- **Флексибельность**: Сложное наследование обеспечивает большую гибкость в проектировании программ, позволяя разработчикам точно определять отношения между классами и их роли в системе.\n",
    "\n",
    "Таким образом, сложное наследование в C# представляет собой мощный инструмент для создания хорошо структурированных и масштабируемых приложений, позволяя эффективно организовывать код и избегать дублирования."
   ]
  },
  {
   "cell_type": "markdown",
   "metadata": {},
   "source": [
    "<h4 style=\"color:DodgerBlue\">Для проверки напишите пример кода на основе классов Vehicle, Car и Motorcycle ниже в блоке:</h4>\n",
    "\n",
    "----"
   ]
  },
  {
   "cell_type": "code",
   "execution_count": null,
   "metadata": {
    "dotnet_interactive": {
     "language": "csharp"
    },
    "polyglot_notebook": {
     "kernelName": "csharp"
    }
   },
   "outputs": [],
   "source": []
  },
  {
   "cell_type": "markdown",
   "metadata": {},
   "source": [
    "<h4 style=\"color:Red\">Задание:</h4>\n",
    "\n",
    "----\n",
    "\n",
    "Ниже в блоке по примеру создайте базовый класс Animal и производные классы (3-4 например Dog, Cat, Bird и так далее) реализуйте структуру и объявление класса, включая свойства, геттеры и сеттеры, а также сложное наследование."
   ]
  },
  {
   "cell_type": "code",
   "execution_count": null,
   "metadata": {
    "dotnet_interactive": {
     "language": "csharp"
    },
    "polyglot_notebook": {
     "kernelName": "csharp"
    }
   },
   "outputs": [],
   "source": []
  }
 ],
 "metadata": {
  "kernelspec": {
   "display_name": ".NET (C#)",
   "language": "C#",
   "name": ".net-csharp"
  },
  "polyglot_notebook": {
   "kernelInfo": {
    "defaultKernelName": "csharp",
    "items": [
     {
      "aliases": [],
      "languageName": "csharp",
      "name": "csharp"
     }
    ]
   }
  }
 },
 "nbformat": 4,
 "nbformat_minor": 2
}
