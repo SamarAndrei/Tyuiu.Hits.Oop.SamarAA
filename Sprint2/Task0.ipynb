{
 "cells": [
  {
   "cell_type": "markdown",
   "metadata": {},
   "source": [
    "<h1 style=\"color:DodgerBlue\">Простое наследование</h1>\n"
   ]
  },
  {
   "cell_type": "markdown",
   "metadata": {},
   "source": [
    "Простое наследование в C# позволяет создавать новые классы на основе существующих, наследуя их свойства и методы. Это мощный механизм для повторного использования кода и организации программ на основе иерархии классов. Давайте рассмотрим пример наследования с классами `Vehicle`, `Car` и `Motorcycle`.\n",
    "\n",
    "### Шаг 1: Определение базового класса\n",
    "\n",
    "Сначала определим базовый класс `Vehicle`. Этот класс будет содержать общие свойства и методы, которые могут быть у всех транспортных средств.\n",
    "\n",
    "```csharp\n",
    "public class Vehicle\n",
    "{\n",
    "    // Свойство для хранения марки транспортного средства\n",
    "    public string Make { get; set; }\n",
    "\n",
    "    // Свойство для хранения модели транспортного средства\n",
    "    public string Model { get; set; }\n",
    "\n",
    "    // Конструктор класса Vehicle\n",
    "    public Vehicle(string make, string model)\n",
    "    {\n",
    "        Make = make;\n",
    "        Model = model;\n",
    "    }\n",
    "\n",
    "    // Метод для отображения информации о транспортном средстве\n",
    "    public void DisplayInfo()\n",
    "    {\n",
    "        Console.WriteLine($\"Производитель: {Make}, Модель: {Model}\");\n",
    "    }\n",
    "}\n",
    "```\n",
    "\n",
    "### Шаг 2: Создание производных классов\n",
    "\n",
    "Теперь создадим два производных класса `Car` и `Motorcycle`, которые наследуют от базового класса `Vehicle`.\n",
    "\n",
    "#### Класс Car\n",
    "\n",
    "Класс `Car` добавит дополнительные свойства, специфичные для автомобилей, например, количество дверей.\n",
    "\n",
    "```csharp\n",
    "public class Car : Vehicle\n",
    "{\n",
    "    // Свойство для хранения количества дверей\n",
    "    public int Doors { get; set; }\n",
    "\n",
    "    // Конструктор класса Car\n",
    "    public Car(string make, string model, int doors) : base(make, model)\n",
    "    {\n",
    "        Doors = doors;\n",
    "    }\n",
    "\n",
    "    // Переопределенный метод DisplayInfo для отображения информации о автомобиле\n",
    "    public override void DisplayInfo()\n",
    "    {\n",
    "        base.DisplayInfo();\n",
    "        Console.WriteLine($\"Двери: {Doors}\");\n",
    "    }\n",
    "}\n",
    "```\n",
    "\n",
    "#### Класс Motorcycle\n",
    "\n",
    "Аналогично, класс `Motorcycle` может добавить свои специфические свойства, например, тип двигателя.\n",
    "\n",
    "```csharp\n",
    "public class Motorcycle : Vehicle\n",
    "{\n",
    "    // Свойство для хранения типа двигателя\n",
    "    public string EngineType { get; set; }\n",
    "\n",
    "    // Конструктор класса Motorcycle\n",
    "    public Motorcycle(string make, string model, string engineType) : base(make, model)\n",
    "    {\n",
    "        EngineType = engineType;\n",
    "    }\n",
    "\n",
    "    // Переопределенный метод DisplayInfo для отображения информации о мотоцикле\n",
    "    public override void DisplayInfo()\n",
    "    {\n",
    "        base.DisplayInfo();\n",
    "        Console.WriteLine($\"Вид двигателя: {EngineType}\");\n",
    "    }\n",
    "}\n",
    "```\n",
    "\n",
    "### Шаг 3: Использование классов\n",
    "\n",
    "Теперь мы можем создать экземпляры наших классов и использовать их.\n",
    "\n",
    "```csharp\n",
    "// Создаем объект класса Car\n",
    "Car myCar = new Car(\"Toyota\", \"Corolla\", 4);\n",
    "myCar.DisplayInfo(); // Выводит информацию о автомобиле\n",
    "\n",
    "// Создаем объект класса Motorcycle\n",
    "Motorcycle myMotorcycle = new Motorcycle(\"Honda\", \"CBR600RR\", \"Inline Four\");\n",
    "myMotorcycle.DisplayInfo(); // Выводит информацию о мотоцикле\n",
    "\n",
    "\n",
    "```\n",
    "\n",
    "### Объяснение кода\n",
    "\n",
    "- **Базовый класс `Vehicle`**: Определяет общую структуру для всех транспортных средств, включая свойства `Make` и `Model`, а также метод `DisplayInfo()` для вывода информации.\n",
    "- **Производные классы `Car` и `Motorcycle`**: Наследуют от `Vehicle` и добавляют собственные свойства (`Doors` для `Car` и `EngineType` для `Motorcycle`). Также переопределяют метод `DisplayInfo()` для вывода дополнительной информации.\n",
    "- **Использование классов**: В `Main` создаются экземпляры `Car` и `Motorcycle`, и вызывается метод `DisplayInfo()` для каждого из них, демонстрируя различие в информации, которую они выводят.\n",
    "\n",
    "Этот пример показывает, как можно использовать простое наследование в C# для создания иерархии классов, где каждый класс расширяет функциональность предка, сохраняя при этом возможность индивидуализации своих свойств и поведения."
   ]
  },
  {
   "cell_type": "markdown",
   "metadata": {},
   "source": [
    "<h4 style=\"color:DodgerBlue\">Для проверки напишите пример кода на основе классов Vehicle, Car и Motorcycle ниже в блоке:</h4>\n",
    "\n",
    "----"
   ]
  },
  {
   "cell_type": "code",
   "execution_count": null,
   "metadata": {
    "dotnet_interactive": {
     "language": "csharp"
    },
    "polyglot_notebook": {
     "kernelName": "csharp"
    }
   },
   "outputs": [],
   "source": [
    "public class Vehicle\n",
    "{\n",
    "    public string Make { get; set; }\n",
    "\n",
    "    public string Model { get; set; }\n",
    "\n",
    "    public Vehicle(string make, string model)\n",
    "    {\n",
    "        Make = make;\n",
    "        Model = model;\n",
    "    }\n",
    "\n",
    "    public void DisplayInfo()\n",
    "    {\n",
    "        Console.WriteLine($\"Производитель: {Make}, Модель: {Model}\");\n",
    "    }\n",
    "}\n",
    "\n",
    "public class Car : Vehicle\n",
    "{\n",
    "    public int Doors { get; set; }\n",
    "\n",
    "    public Car(string make, string model, int doors) : base(make, model)\n",
    "    {\n",
    "        Doors = doors;\n",
    "    }\n",
    "\n",
    "    public override void DisplayInfo()\n",
    "    {\n",
    "        base.DisplayInfo();\n",
    "        Console.WriteLine($\"Двери: {Doors}\");\n",
    "    }\n",
    "}\n",
    "\n",
    "public class Motorcycle : Vehicle\n",
    "{\n",
    "    public string EngineType { get; set; }\n",
    "\n",
    "    public Motorcycle(string make, string model, string engineType) : base(make, model)\n",
    "    {\n",
    "        EngineType = engineType;\n",
    "    }\n",
    "\n",
    "    public override void DisplayInfo()\n",
    "    {\n",
    "        base.DisplayInfo();\n",
    "        Console.WriteLine($\"Вид двигателя: {EngineType}\");\n",
    "    }\n",
    "}\n",
    "\n",
    "Car myCar = new Car(\"Toyota\", \"Corolla\", 4);\n",
    "myCar.DisplayInfo(); \n",
    "\n",
    "Motorcycle myMotorcycle = new Motorcycle(\"Honda\", \"CBR600RR\", \"Inline Four\");\n",
    "myMotorcycle.DisplayInfo();"
   ]
  },
  {
   "cell_type": "markdown",
   "metadata": {},
   "source": [
    "<h4 style=\"color:Red\">Задание:</h4>\n",
    "\n",
    "----\n",
    "\n",
    "Ниже в блоке по примеру создайте базовый класс Animal и производные классы (3-4 например Dog, Cat, Bird и так далее) реализуйте структуру и объявление класса, включая свойства, геттеры и сеттеры, а также простое наследование."
   ]
  },
  {
   "cell_type": "code",
   "execution_count": null,
   "metadata": {
    "dotnet_interactive": {
     "language": "csharp"
    },
    "polyglot_notebook": {
     "kernelName": "csharp"
    }
   },
   "outputs": [],
   "source": [
    "Console.WriteLine(\"123\");"
   ]
  }
 ],
 "metadata": {
  "kernelspec": {
   "display_name": ".NET (C#)",
   "language": "C#",
   "name": ".net-csharp"
  },
  "polyglot_notebook": {
   "kernelInfo": {
    "defaultKernelName": "csharp",
    "items": [
     {
      "aliases": [],
      "languageName": "csharp",
      "name": "csharp"
     }
    ]
   }
  }
 },
 "nbformat": 4,
 "nbformat_minor": 2
}
