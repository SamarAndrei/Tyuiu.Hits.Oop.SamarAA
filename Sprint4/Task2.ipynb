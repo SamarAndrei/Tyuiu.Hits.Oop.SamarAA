{
 "cells": [
  {
   "cell_type": "markdown",
   "metadata": {},
   "source": [
    "<h1 style=\"color:DodgerBlue\">Управление зависимостями </h1>"
   ]
  },
  {
   "cell_type": "markdown",
   "metadata": {},
   "source": [
    "### Интерфейсы в C#\n",
    "\n",
    "**Интерфейс** — это контракт, который определяет набор методов и свойств, которые класс должен реализовать. Интерфейсы позволяют создать гибкую и расширяемую архитектуру, поскольку они отделяют определение поведения от его реализации.\n",
    "\n",
    "Давайте подробно разберем понятия интерфейсов и управления зависимостями в C# на примере классов `Vehicle`, `Car` и `Motorcycle`.\n",
    "\n",
    "#### Пример интерфейса\n",
    "\n",
    "Предположим, мы имеем интерфейс `IVehicle`, который определяет поведение транспортных средств. Ниже приведен пример его определения:\n",
    "\n",
    "```csharp\n",
    "public interface IVehicle\n",
    "{\n",
    "    void Start();            // Метод для запуска транспортного средства\n",
    "    void Stop();             // Метод для остановки транспортного средства\n",
    "    int GetNumberOfWheels(); // Метод для получения количества колес\n",
    "}\n",
    "```\n",
    "\n",
    "Интерфейс `IVehicle` требует, чтобы любой класс, реализующий его, обеспечил реализацию этих методов.\n",
    "\n",
    "### Реализация интерфейса\n",
    "\n",
    "Теперь создадим классы `Car` и `Motorcycle`, которые будут реализовывать этот интерфейс:\n",
    "\n",
    "```csharp\n",
    "public class Car : IVehicle\n",
    "{\n",
    "    public void Start()\n",
    "    {\n",
    "        Console.WriteLine(\"Машина запущена.\");\n",
    "    }\n",
    "\n",
    "    public void Stop()\n",
    "    {\n",
    "        Console.WriteLine(\"Машина остановлена.\");\n",
    "    }\n",
    "\n",
    "    public int GetNumberOfWheels()\n",
    "    {\n",
    "        return 4; // У машины 4 колеса\n",
    "    }\n",
    "}\n",
    "\n",
    "public class Motorcycle : IVehicle\n",
    "{\n",
    "    public void Start()\n",
    "    {\n",
    "        Console.WriteLine(\"Мотоцикл запущен.\");\n",
    "    }\n",
    "\n",
    "    public void Stop()\n",
    "    {\n",
    "        Console.WriteLine(\"Мотоцикл остановлен.\");\n",
    "    }\n",
    "\n",
    "    public int GetNumberOfWheels()\n",
    "    {\n",
    "        return 2; // У мотоцикла 2 колеса\n",
    "    }\n",
    "}\n",
    "```\n",
    "\n",
    "Каждый класс (`Car` и `Motorcycle`) реализует все методы, определенные в интерфейсе `IVehicle`, что позволяет создать единый интерфейс для работы с разными типами транспортных средств.\n",
    "\n",
    "### Управление зависимостями (Dependency Injection)\n",
    "\n",
    "**Управление зависимостями** — это паттерн проектирования, который помогает управлять созданием зависимостей в классе. Этот подход позволяет внедрять (или \"вводить\") зависимости через конструктор, методы или свойства, вместо того чтобы создавать их внутри класса. Это делает код более чистым и облегчает его тестирование.\n",
    "\n",
    "#### Пример управления зависимостями\n",
    "\n",
    "Создадим класс `VehicleService`, который будет зависеть от интерфейса `IVehicle`:\n",
    "\n",
    "```csharp\n",
    "public class VehicleService\n",
    "{\n",
    "    private readonly IVehicle _vehicle;\n",
    "\n",
    "    // Внедрение зависимости через конструктор\n",
    "    public VehicleService(IVehicle vehicle)\n",
    "    {\n",
    "        _vehicle = vehicle; \n",
    "    }\n",
    "\n",
    "    public void UseVehicle()\n",
    "    {\n",
    "        _vehicle.Start(); // Запускаем транспортное средство\n",
    "        Console.WriteLine($\"У этого транспортного средства {_vehicle.GetNumberOfWheels()} колеса.\");\n",
    "        _vehicle.Stop(); // Останавливаем транспортное средство\n",
    "    }\n",
    "}\n",
    "```\n",
    "\n",
    "В этом примере класс `VehicleService` принимает в своем конструкторе объект, реализующий интерфейс `IVehicle`. Это позволяет `VehicleService` работать с любым объектом, который реализует `IVehicle`, обеспечивая гибкость и уменьшая связывание между классами.\n",
    "\n",
    "### Использование классов\n",
    "\n",
    "Теперь давайте создадим объекты `Car` и `Motorcycle` и используем наш сервис:\n",
    "\n",
    "```csharp\n",
    "IVehicle myCar = new Car(); // Создаем объект машины\n",
    "VehicleService carService = new VehicleService(myCar); // Передаем машину в сервис\n",
    "carService.UseVehicle(); // Используем сервис с машиной\n",
    "\n",
    "IVehicle myMotorcycle = new Motorcycle(); // Создаем объект мотоцикла\n",
    "VehicleService motorcycleService = new VehicleService(myMotorcycle); // Передаем мотоцикл в сервис\n",
    "motorcycleService.UseVehicle(); // Используем сервис с мотоциклом\n",
    "\n",
    "```\n",
    "\n",
    "### Результат выполнения\n",
    "\n",
    "При запуске данной программы будет следующий вывод:\n",
    "\n",
    "```\n",
    "Машина запущена.\n",
    "У этого транспортного средства 4 колеса.\n",
    "Машина остановлена.\n",
    "Мотоцикл запущен.\n",
    "У этого транспортного средства 2 колеса.\n",
    "Мотоцикл остановлен.\n",
    "```\n",
    "\n",
    "### Заключение\n",
    "\n",
    "Использование интерфейсов и управления зависимостями позволяет создать более организованный и тестируемый код. Интерфейсы определяют стандартные поведения, а управление зависимостями снижает связность между компонентами. Это делает систему более гибкой и упрощает процесс её поддержки и расширения в будущем."
   ]
  },
  {
   "cell_type": "markdown",
   "metadata": {},
   "source": [
    "<h4 style=\"color:DodgerBlue\">Для проверки напишите пример кода на основе классов Vehicle, Car и Motorcycle ниже в блоке с применением интерфейса и абстактного класса:</h4>\n",
    "\n",
    "----"
   ]
  },
  {
   "cell_type": "code",
   "execution_count": null,
   "metadata": {
    "dotnet_interactive": {
     "language": "csharp"
    },
    "polyglot_notebook": {
     "kernelName": "csharp"
    }
   },
   "outputs": [],
   "source": []
  },
  {
   "cell_type": "markdown",
   "metadata": {},
   "source": [
    "<h4 style=\"color:Red\">Задание:</h4>\n",
    "\n",
    "----\n",
    "\n",
    "Ниже в блоке по примеру создайте базовый класс Animal и производные классы (3-4 например Dog, Cat, Bird и так далее) реализуйте структуру и объявление класса, включая свойства, геттеры и сеттеры, а также реализовать управление зависимостями."
   ]
  },
  {
   "cell_type": "code",
   "execution_count": null,
   "metadata": {
    "dotnet_interactive": {
     "language": "csharp"
    },
    "polyglot_notebook": {
     "kernelName": "csharp"
    }
   },
   "outputs": [],
   "source": []
  }
 ],
 "metadata": {
  "kernelspec": {
   "display_name": ".NET (C#)",
   "language": "C#",
   "name": ".net-csharp"
  },
  "polyglot_notebook": {
   "kernelInfo": {
    "defaultKernelName": "csharp",
    "items": [
     {
      "aliases": [],
      "languageName": "csharp",
      "name": "csharp"
     }
    ]
   }
  }
 },
 "nbformat": 4,
 "nbformat_minor": 2
}
